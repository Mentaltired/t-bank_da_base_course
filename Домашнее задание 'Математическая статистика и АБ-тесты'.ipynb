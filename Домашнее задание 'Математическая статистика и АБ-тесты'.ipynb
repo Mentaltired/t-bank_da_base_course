{
 "cells": [
  {
   "cell_type": "markdown",
   "id": "31c8d92d",
   "metadata": {},
   "source": [
    "В этом блоке проанализируем А/Б тест\n",
    "\n",
    "Мы добавили на лендинг с оформлением дебетовой карты (https://www.tinkoff.ru/cards/debit-cards/tinkoff-black/) информацию о дополнительных кэшбеках, которые появляются благодаря нашим патнерам. Рассчитываем, что это вырастит конверсию из переходов на лендинг в оформление дебетовой карты. \n",
    "\n",
    "В приложенном файле вам доступны логи переходов на сайт и последующего оформления карточки за каждый день. "
   ]
  },
  {
   "cell_type": "code",
   "execution_count": null,
   "id": "15fcdd54",
   "metadata": {},
   "outputs": [],
   "source": [
    "# загрузим необходимые пакеты\n",
    "\n",
    "import pandas as pd\n",
    "\n",
    "import seaborn as sns\n",
    "import matplotlib.pyplot as plt\n",
    "import scipy.stats\n"
   ]
  },
  {
   "cell_type": "code",
   "execution_count": null,
   "id": "7eb866a4",
   "metadata": {},
   "outputs": [],
   "source": [
    "# Загрузите таблицу в датафрейм\n",
    "\n",
    "df = pd.read_csv('hw_ab.csv')"
   ]
  },
  {
   "cell_type": "code",
   "execution_count": null,
   "id": "a21af2f7",
   "metadata": {},
   "outputs": [],
   "source": [
    "# Посмотрите на поля и проанализируйте таблицу: она содержит поля \n",
    "# date — дата захода пользователя на лендинг\n",
    "# id — идентификатор, присвоенный пользователю\n",
    "# group — группа теста или контроля\n",
    "# converted – 1, если пользователь оформил карточку и 0, если не оформил\n",
    "\n"
   ]
  },
  {
   "cell_type": "code",
   "execution_count": null,
   "id": "c30643b7",
   "metadata": {},
   "outputs": [],
   "source": [
    "# убедитесь,что пользователи уникальные\n"
   ]
  },
  {
   "cell_type": "code",
   "execution_count": null,
   "id": "f4951574",
   "metadata": {},
   "outputs": [],
   "source": [
    "# убедитесь, что пользователей в тесте и контрле приблизительно равное количество, \n",
    "# в каждой группе каждый день теста были пользователи, и они как оформляли карту, так и нет\n",
    "\n"
   ]
  },
  {
   "cell_type": "code",
   "execution_count": null,
   "id": "b83aa200",
   "metadata": {},
   "outputs": [],
   "source": [
    "# отличаются ли конверсии в тесте и в контроле?\n",
    "\n"
   ]
  },
  {
   "cell_type": "code",
   "execution_count": null,
   "id": "ab7c7012",
   "metadata": {},
   "outputs": [],
   "source": [
    "# конверсия в контроле: \n"
   ]
  },
  {
   "cell_type": "code",
   "execution_count": null,
   "id": "1d363c22",
   "metadata": {},
   "outputs": [],
   "source": [
    "# конверсия в тесте: \n"
   ]
  },
  {
   "cell_type": "code",
   "execution_count": null,
   "id": "9c454e1c",
   "metadata": {},
   "outputs": [],
   "source": [
    "# отношение конверсий: \n",
    "\n",
    "conv_test = # посчитайте число открытых карт в тесте\n",
    "seen_test = # посчитайте общее число наблюдений в тесте, это число заходов на лендинг\n",
    "\n",
    "conv_control = # посчитайте число открытых карт в контроле\n",
    "seen_control = # посчитайте общее число наблюдений в контроле, это число заходов на лендинг\n",
    "\n",
    "print((conv_test/seen_test)/(conv_control/seen_control)-1)"
   ]
  },
  {
   "cell_type": "code",
   "execution_count": null,
   "id": "7ff3f206",
   "metadata": {},
   "outputs": [],
   "source": [
    "# значимо ли это отличие? \n",
    "# проверьте статистическим тестом"
   ]
  },
  {
   "cell_type": "code",
   "execution_count": null,
   "id": "2f4ac4c9",
   "metadata": {},
   "outputs": [],
   "source": [
    "# сначала используем знание о том, что конверсии распределены биномиально: \n",
    "# используйте статистический тест и проинтерпретируйте результаты\n",
    "# как меняется ваш результат в зависимости от принятого вами уровня значимости?\n",
    "\n",
    "from scipy.stats import binom_test\n",
    "\n",
    "binom_test() # используйте документацию, чтобы с помощью conv_test,seen_test,conv_control,seen_control получить результат теста"
   ]
  },
  {
   "cell_type": "code",
   "execution_count": null,
   "id": "334a9514",
   "metadata": {},
   "outputs": [],
   "source": [
    "# достаточно ли длинным был тест, чтобы мы могли посчитать средние конверсии и сравнить значимость их различия? \n",
    "# посчитайте количество дней теста, убедитесь, что среди них нет пропусков\n",
    "\n"
   ]
  },
  {
   "cell_type": "code",
   "execution_count": null,
   "id": "c7a4b257",
   "metadata": {},
   "outputs": [],
   "source": [
    "# посчитайте количество открытых карт и средние конверсии по дням в тесте и в контроле:\n",
    "\n",
    "test_n_by_date = # посчитайте количество открытых карт и средние конверсии по дням в тесте\n",
    "control_n_by_date = # посчитайте количество открытых карт и средние конверсии по дням в контроле\n"
   ]
  },
  {
   "cell_type": "code",
   "execution_count": null,
   "id": "3d06d3ee",
   "metadata": {},
   "outputs": [],
   "source": [
    "# посчитайте конверсию из посещений в оформленние карт по дням\n",
    "test_conv_by_date = # посчитайте конверсию из посещений в оформленние карт по дням в тесте\n",
    "control_conv_by_date =  # посчитайте конверсию из посещений в оформленние карт по дням в контроле\n",
    "\n"
   ]
  },
  {
   "cell_type": "code",
   "execution_count": null,
   "id": "e9e39e22",
   "metadata": {},
   "outputs": [],
   "source": []
  },
  {
   "cell_type": "code",
   "execution_count": null,
   "id": "0dcf45c1",
   "metadata": {},
   "outputs": [],
   "source": [
    "# построим график, отражающий количество оформленных карт по дням\n",
    "\n",
    "sns.lineplot(data= test_n_by_date, color = \"red\")\n",
    "sns.lineplot(data= control_n_by_date, color =\"blue\")\n",
    "\n",
    "plt.ylim(0, 100)"
   ]
  },
  {
   "cell_type": "code",
   "execution_count": null,
   "id": "fe0727c9",
   "metadata": {},
   "outputs": [],
   "source": [
    "# построим график, отражающий конверсию из посещений в оформленние карт по дням\n",
    "\n",
    "sns.lineplot(data= test_conv_by_date, color = \"red\")\n",
    "sns.lineplot(data= control_conv_by_date, color =\"blue\")\n",
    "\n",
    "plt.ylim(0, 0.2)"
   ]
  },
  {
   "cell_type": "code",
   "execution_count": null,
   "id": "3f39081d",
   "metadata": {},
   "outputs": [],
   "source": []
  },
  {
   "cell_type": "code",
   "execution_count": null,
   "id": "d9195606",
   "metadata": {},
   "outputs": [],
   "source": [
    "# построим распределения средних значений по дням в тесте и в контроле\n",
    "# на что похоже это распределение?\n",
    "\n",
    "plt.hist(test_conv_by_date, 20, density=True,color='r',alpha=0.3 )\n",
    "plt.hist(control_conv_by_date, 20, density=True,color='b',alpha=0.3 )\n",
    "\n",
    "plt.show()"
   ]
  },
  {
   "cell_type": "code",
   "execution_count": null,
   "id": "dac6934f",
   "metadata": {},
   "outputs": [],
   "source": [
    "plt.hist(test_n_by_date, 20, density=True,color='r',alpha=0.3 )\n",
    "plt.hist(control_n_by_date, 20, density=True,color='b',alpha=0.3 )\n",
    "\n",
    "plt.show()"
   ]
  },
  {
   "cell_type": "code",
   "execution_count": null,
   "id": "de6a092c",
   "metadata": {},
   "outputs": [],
   "source": [
    "# теперь используем знание о том, что средние конверсии распределены нормально\n",
    "# используйте статистический тест и проинтерпретируйте результаты\n",
    "# как меняется ваш результат в зависимости от принятого вами уровня значимости?\n",
    "\n",
    "from scipy.stats import ttest_ind\n",
    "\n",
    "ttest_ind() # используйте документацию, test_conv_by_date, control_conv_by_date, чтобы провести тест\n"
   ]
  },
  {
   "cell_type": "code",
   "execution_count": null,
   "id": "23d4d918",
   "metadata": {},
   "outputs": [],
   "source": [
    "# используйте тот же статистический тест, чтобы оценить, отличаются ли  и проинтерпретируйте результаты\n",
    "# как меняется ваш результат в зависимости от принятого вами уровня значимости?\n",
    "\n",
    "ttest_ind() # используйте документацию, test_n_by_date, control_n_by_date, чтобы провести тест"
   ]
  },
  {
   "cell_type": "code",
   "execution_count": null,
   "id": "d11fd9c6",
   "metadata": {},
   "outputs": [],
   "source": []
  },
  {
   "cell_type": "code",
   "execution_count": null,
   "id": "94d1f147",
   "metadata": {},
   "outputs": [],
   "source": []
  }
 ],
 "metadata": {
  "kernelspec": {
   "display_name": "Python 3 (ipykernel)",
   "language": "python",
   "name": "python3"
  },
  "language_info": {
   "codemirror_mode": {
    "name": "ipython",
    "version": 3
   },
   "file_extension": ".py",
   "mimetype": "text/x-python",
   "name": "python",
   "nbconvert_exporter": "python",
   "pygments_lexer": "ipython3",
   "version": "3.9.13"
  }
 },
 "nbformat": 4,
 "nbformat_minor": 5
}
